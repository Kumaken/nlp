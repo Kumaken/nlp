{
 "cells": [
  {
   "cell_type": "markdown",
   "metadata": {},
   "source": [
    "# Spam Classification\n",
    "## Natural Language Processing\n",
    "\n",
    "#### Author:\n",
    "Abel Stanley\n",
    "13517068"
   ]
  },
  {
   "cell_type": "markdown",
   "metadata": {},
   "source": [
    "# Table of Contents\n",
    "0. [Constants Definition](#const)\n",
    "1. [Data Preprocessing](#preprocess)\n",
    "    1. [Feature Extraction with Keras Tokenizer](#feature_extraction)\n",
    "    2. [Feature Extraction with TF-IDF](#feature_extraction2)\n",
    "2. [Neural Network](#nn)\n",
    "3. [Naive Bayes](#naive_bayes)\n",
    "4. [Support Vector Machine](#svm)"
   ]
  },
  {
   "cell_type": "code",
   "execution_count": 41,
   "metadata": {},
   "outputs": [],
   "source": [
    "import tqdm\n",
    "from keras.layers import Embedding, LSTM, Dropout, Dense\n",
    "from keras.models import Sequential\n",
    "from keras.utils import to_categorical\n",
    "from keras.callbacks import ModelCheckpoint, TensorBoard\n",
    "from sklearn.model_selection import train_test_split\n",
    "import time\n",
    "import numpy as np\n",
    "import pickle"
   ]
  },
  {
   "cell_type": "markdown",
   "metadata": {},
   "source": [
    "## 0. Constants Definition <a name=\"const\"></a>"
   ]
  },
  {
   "cell_type": "code",
   "execution_count": 42,
   "metadata": {},
   "outputs": [],
   "source": [
    "BATCH_SIZE = 100 # number of samples per batch\n",
    "N_EPOCH = 50 # how many N_EPOCH the NN model will be trained\n",
    "EMBED_SIZE = 100  # for 100 dimension GloVe embedding vectors\n",
    "SEQ_LEN = 100 # length of sequences (the number of words per sample)\n",
    "\n",
    "# label encodings:\n",
    "label_to_int = {\"ham\": 0, \"spam\": 1}\n",
    "int_to_label = {0: \"ham\", 1: \"spam\"}\n",
    "\n",
    "# labels\n",
    "DATA = 'text'\n",
    "LABEL = 'type'\n",
    "COLUMN_LABELS = [LABEL, DATA]\n",
    "\n",
    "TRAIN = 'train'\n",
    "VAL = 'validation'\n",
    "TEST = 'test'\n",
    "DATASET_LABELS = [TRAIN, VAL, TEST]\n",
    "\n",
    "TRAIN_LABEL = 'train_label'\n",
    "VAL_LABEL = 'validation_label'\n",
    "TEST_LABEL = 'test_label'\n",
    "DATASET_TYPE_LABELS = [TRAIN_LABEL, VAL_LABEL, TEST_LABEL]\n",
    "\n",
    "PREFIX_tkn = 'tokenized_'\n",
    "TRAIN_tkn = 'tokenized_train'\n",
    "VAL_tkn = 'tokenized_validation'\n",
    "TEST_tkn = 'tokenized_test'\n",
    "TOKENIZED_DATA_LABELS = [TRAIN_tkn, VAL_tkn, TEST_tkn]\n",
    "\n",
    "datasets = {}\n",
    "# Data paths\n",
    "PATH_TRAIN = \"data/training_data.csv\"\n",
    "PATH_VAL = \"data/val_data.csv\"\n",
    "PATH_TEST = \"data/testing_data.csv\"\n",
    "MODELS = \"models\"\n",
    "LSTM_NAME = 'LSTM'\n",
    "ANN_NAME = 'ANN'\n",
    "PATHS = [PATH_TRAIN, PATH_VAL, PATH_TEST]\n",
    "\n",
    "# helper functions\n",
    "def apply_to_multiple_datasets(labels, func):\n",
    "    for label in labels:\n",
    "        print(\"applying to\", labels)\n",
    "        func(datasets[label])\n",
    "        print()\n",
    "        \n",
    "def apply_to_multiple_datasets_labels(labels, func):\n",
    "    for label in labels:\n",
    "        print(\"applying to\", labels)\n",
    "        func(datasets[label][LABEL])\n",
    "        print()"
   ]
  },
  {
   "cell_type": "markdown",
   "metadata": {},
   "source": [
    "## 1. Data Preprocessing <a name=\"preprocess\"></a>"
   ]
  },
  {
   "cell_type": "markdown",
   "metadata": {},
   "source": [
    "### 1.1. Load Data"
   ]
  },
  {
   "cell_type": "code",
   "execution_count": 43,
   "metadata": {},
   "outputs": [],
   "source": [
    "import pandas as pd\n",
    "def load_csv_data_to_pd(path, labels):\n",
    "    return pd.read_csv(path, sep=',', header=0, names=labels)\n",
    "\n",
    "# load the data into pandas df\n",
    "for path, label in zip(PATHS, DATASET_LABELS):\n",
    "    datasets[label] = load_csv_data_to_pd(path, COLUMN_LABELS)"
   ]
  },
  {
   "cell_type": "markdown",
   "metadata": {},
   "source": [
    "### 1.2. Initial look into the data "
   ]
  },
  {
   "cell_type": "markdown",
   "metadata": {},
   "source": [
    "#### Train data head"
   ]
  },
  {
   "cell_type": "code",
   "execution_count": 44,
   "metadata": {},
   "outputs": [
    {
     "data": {
      "text/html": [
       "<div>\n",
       "<style scoped>\n",
       "    .dataframe tbody tr th:only-of-type {\n",
       "        vertical-align: middle;\n",
       "    }\n",
       "\n",
       "    .dataframe tbody tr th {\n",
       "        vertical-align: top;\n",
       "    }\n",
       "\n",
       "    .dataframe thead th {\n",
       "        text-align: right;\n",
       "    }\n",
       "</style>\n",
       "<table border=\"1\" class=\"dataframe\">\n",
       "  <thead>\n",
       "    <tr style=\"text-align: right;\">\n",
       "      <th></th>\n",
       "      <th>type</th>\n",
       "      <th>text</th>\n",
       "    </tr>\n",
       "  </thead>\n",
       "  <tbody>\n",
       "    <tr>\n",
       "      <th>0</th>\n",
       "      <td>ham</td>\n",
       "      <td>Babe, I'm back ... Come back to me ...</td>\n",
       "    </tr>\n",
       "    <tr>\n",
       "      <th>1</th>\n",
       "      <td>ham</td>\n",
       "      <td>S:)no competition for him.</td>\n",
       "    </tr>\n",
       "    <tr>\n",
       "      <th>2</th>\n",
       "      <td>ham</td>\n",
       "      <td>Yup having my lunch buffet now.. U eat already?</td>\n",
       "    </tr>\n",
       "    <tr>\n",
       "      <th>3</th>\n",
       "      <td>ham</td>\n",
       "      <td>Storming msg: Wen u lift d phne, u say HELLO D...</td>\n",
       "    </tr>\n",
       "    <tr>\n",
       "      <th>4</th>\n",
       "      <td>ham</td>\n",
       "      <td>Mark works tomorrow. He gets out at 5. His wor...</td>\n",
       "    </tr>\n",
       "  </tbody>\n",
       "</table>\n",
       "</div>"
      ],
      "text/plain": [
       "  type                                               text\n",
       "0  ham             Babe, I'm back ... Come back to me ...\n",
       "1  ham                         S:)no competition for him.\n",
       "2  ham    Yup having my lunch buffet now.. U eat already?\n",
       "3  ham  Storming msg: Wen u lift d phne, u say HELLO D...\n",
       "4  ham  Mark works tomorrow. He gets out at 5. His wor..."
      ]
     },
     "execution_count": 44,
     "metadata": {},
     "output_type": "execute_result"
    }
   ],
   "source": [
    "datasets[TRAIN].head()"
   ]
  },
  {
   "cell_type": "markdown",
   "metadata": {},
   "source": [
    "#### Validation data head"
   ]
  },
  {
   "cell_type": "code",
   "execution_count": 45,
   "metadata": {},
   "outputs": [
    {
     "data": {
      "text/html": [
       "<div>\n",
       "<style scoped>\n",
       "    .dataframe tbody tr th:only-of-type {\n",
       "        vertical-align: middle;\n",
       "    }\n",
       "\n",
       "    .dataframe tbody tr th {\n",
       "        vertical-align: top;\n",
       "    }\n",
       "\n",
       "    .dataframe thead th {\n",
       "        text-align: right;\n",
       "    }\n",
       "</style>\n",
       "<table border=\"1\" class=\"dataframe\">\n",
       "  <thead>\n",
       "    <tr style=\"text-align: right;\">\n",
       "      <th></th>\n",
       "      <th>type</th>\n",
       "      <th>text</th>\n",
       "    </tr>\n",
       "  </thead>\n",
       "  <tbody>\n",
       "    <tr>\n",
       "      <th>0</th>\n",
       "      <td>ham</td>\n",
       "      <td>We can make a baby in yo tho</td>\n",
       "    </tr>\n",
       "    <tr>\n",
       "      <th>1</th>\n",
       "      <td>ham</td>\n",
       "      <td>Aight will do, thanks again for comin out</td>\n",
       "    </tr>\n",
       "    <tr>\n",
       "      <th>2</th>\n",
       "      <td>ham</td>\n",
       "      <td>hope things went well at 'doctors' ;) reminds ...</td>\n",
       "    </tr>\n",
       "    <tr>\n",
       "      <th>3</th>\n",
       "      <td>ham</td>\n",
       "      <td>Thanks for this hope you had a good day today</td>\n",
       "    </tr>\n",
       "    <tr>\n",
       "      <th>4</th>\n",
       "      <td>ham</td>\n",
       "      <td>No i'm not. I can't give you everything you wa...</td>\n",
       "    </tr>\n",
       "  </tbody>\n",
       "</table>\n",
       "</div>"
      ],
      "text/plain": [
       "  type                                               text\n",
       "0  ham                       We can make a baby in yo tho\n",
       "1  ham          Aight will do, thanks again for comin out\n",
       "2  ham  hope things went well at 'doctors' ;) reminds ...\n",
       "3  ham      Thanks for this hope you had a good day today\n",
       "4  ham  No i'm not. I can't give you everything you wa..."
      ]
     },
     "execution_count": 45,
     "metadata": {},
     "output_type": "execute_result"
    }
   ],
   "source": [
    "datasets[VAL].head()"
   ]
  },
  {
   "cell_type": "markdown",
   "metadata": {},
   "source": [
    "#### Testing data head"
   ]
  },
  {
   "cell_type": "code",
   "execution_count": 46,
   "metadata": {},
   "outputs": [
    {
     "data": {
      "text/html": [
       "<div>\n",
       "<style scoped>\n",
       "    .dataframe tbody tr th:only-of-type {\n",
       "        vertical-align: middle;\n",
       "    }\n",
       "\n",
       "    .dataframe tbody tr th {\n",
       "        vertical-align: top;\n",
       "    }\n",
       "\n",
       "    .dataframe thead th {\n",
       "        text-align: right;\n",
       "    }\n",
       "</style>\n",
       "<table border=\"1\" class=\"dataframe\">\n",
       "  <thead>\n",
       "    <tr style=\"text-align: right;\">\n",
       "      <th></th>\n",
       "      <th>type</th>\n",
       "      <th>text</th>\n",
       "    </tr>\n",
       "  </thead>\n",
       "  <tbody>\n",
       "    <tr>\n",
       "      <th>0</th>\n",
       "      <td>ham</td>\n",
       "      <td>Anything lor... U decide...</td>\n",
       "    </tr>\n",
       "    <tr>\n",
       "      <th>1</th>\n",
       "      <td>ham</td>\n",
       "      <td>So u pay first lar... Then when is da stock co...</td>\n",
       "    </tr>\n",
       "    <tr>\n",
       "      <th>2</th>\n",
       "      <td>ham</td>\n",
       "      <td>I got a call from a landline number. . . I am ...</td>\n",
       "    </tr>\n",
       "    <tr>\n",
       "      <th>3</th>\n",
       "      <td>ham</td>\n",
       "      <td>Cool. So how come you havent been wined and di...</td>\n",
       "    </tr>\n",
       "    <tr>\n",
       "      <th>4</th>\n",
       "      <td>ham</td>\n",
       "      <td>Dunno lei u all decide lor. How abt leona? Oop...</td>\n",
       "    </tr>\n",
       "  </tbody>\n",
       "</table>\n",
       "</div>"
      ],
      "text/plain": [
       "  type                                               text\n",
       "0  ham                        Anything lor... U decide...\n",
       "1  ham  So u pay first lar... Then when is da stock co...\n",
       "2  ham  I got a call from a landline number. . . I am ...\n",
       "3  ham  Cool. So how come you havent been wined and di...\n",
       "4  ham  Dunno lei u all decide lor. How abt leona? Oop..."
      ]
     },
     "execution_count": 46,
     "metadata": {},
     "output_type": "execute_result"
    }
   ],
   "source": [
    "datasets[TEST].head()"
   ]
  },
  {
   "cell_type": "markdown",
   "metadata": {},
   "source": [
    "### 1.3. Data distribution peek"
   ]
  },
  {
   "cell_type": "code",
   "execution_count": 47,
   "metadata": {},
   "outputs": [
    {
     "data": {
      "text/plain": [
       "ham     0.865837\n",
       "spam    0.134163\n",
       "Name: type, dtype: float64"
      ]
     },
     "execution_count": 47,
     "metadata": {},
     "output_type": "execute_result"
    }
   ],
   "source": [
    "datasets[TRAIN][LABEL].value_counts(normalize=True)"
   ]
  },
  {
   "cell_type": "code",
   "execution_count": 48,
   "metadata": {},
   "outputs": [
    {
     "data": {
      "text/plain": [
       "ham     0.858283\n",
       "spam    0.141717\n",
       "Name: type, dtype: float64"
      ]
     },
     "execution_count": 48,
     "metadata": {},
     "output_type": "execute_result"
    }
   ],
   "source": [
    "datasets[VAL][LABEL].value_counts(normalize=True)"
   ]
  },
  {
   "cell_type": "code",
   "execution_count": 49,
   "metadata": {},
   "outputs": [
    {
     "data": {
      "text/plain": [
       "ham     0.870504\n",
       "spam    0.129496\n",
       "Name: type, dtype: float64"
      ]
     },
     "execution_count": 49,
     "metadata": {},
     "output_type": "execute_result"
    }
   ],
   "source": [
    "datasets[TEST][LABEL].value_counts(normalize=True)"
   ]
  },
  {
   "cell_type": "code",
   "execution_count": 50,
   "metadata": {},
   "outputs": [
    {
     "data": {
      "text/plain": [
       "count     556\n",
       "unique      2\n",
       "top       ham\n",
       "freq      484\n",
       "Name: type, dtype: object"
      ]
     },
     "execution_count": 50,
     "metadata": {},
     "output_type": "execute_result"
    }
   ],
   "source": [
    "datasets[TEST][LABEL].describe()"
   ]
  },
  {
   "cell_type": "markdown",
   "metadata": {},
   "source": [
    "### 1.4. Drop duplicate rows"
   ]
  },
  {
   "cell_type": "code",
   "execution_count": 51,
   "metadata": {},
   "outputs": [
    {
     "name": "stdout",
     "output_type": "stream",
     "text": [
      "Duplicate Rows Removal for train\n",
      "Before:  4502\n",
      "After:  4222\n",
      "Diff:  280\n",
      "Duplicate Rows Removal for validation\n",
      "Before:  501\n",
      "After:  496\n",
      "Diff:  5\n",
      "Duplicate Rows Removal for test\n",
      "Before:  556\n",
      "After:  549\n",
      "Diff:  7\n"
     ]
    }
   ],
   "source": [
    "def drop_duplicate_rows(label):  \n",
    "    old_row_num = len(datasets[label])\n",
    "    datasets[label] = datasets[label].drop_duplicates(keep=\"first\", inplace=False) # drop rows in pandas DF with duplicate values\n",
    "    new_row_num = len(datasets[label])\n",
    "    print('Duplicate Rows Removal for', label)\n",
    "    print(\"Before: \", old_row_num)\n",
    "    print(\"After: \", new_row_num)\n",
    "    print(\"Diff: \", old_row_num-new_row_num)\n",
    "    \n",
    "for label in DATASET_LABELS:\n",
    "    drop_duplicate_rows(label)"
   ]
  },
  {
   "cell_type": "markdown",
   "metadata": {},
   "source": [
    "### 1.5. Normalization: Letter case, Punctuation, and Lemmatization"
   ]
  },
  {
   "cell_type": "markdown",
   "metadata": {},
   "source": [
    "#### a. before normalization"
   ]
  },
  {
   "cell_type": "code",
   "execution_count": 52,
   "metadata": {},
   "outputs": [
    {
     "data": {
      "text/html": [
       "<div>\n",
       "<style scoped>\n",
       "    .dataframe tbody tr th:only-of-type {\n",
       "        vertical-align: middle;\n",
       "    }\n",
       "\n",
       "    .dataframe tbody tr th {\n",
       "        vertical-align: top;\n",
       "    }\n",
       "\n",
       "    .dataframe thead th {\n",
       "        text-align: right;\n",
       "    }\n",
       "</style>\n",
       "<table border=\"1\" class=\"dataframe\">\n",
       "  <thead>\n",
       "    <tr style=\"text-align: right;\">\n",
       "      <th></th>\n",
       "      <th>type</th>\n",
       "      <th>text</th>\n",
       "    </tr>\n",
       "  </thead>\n",
       "  <tbody>\n",
       "    <tr>\n",
       "      <th>0</th>\n",
       "      <td>ham</td>\n",
       "      <td>Babe, I'm back ... Come back to me ...</td>\n",
       "    </tr>\n",
       "    <tr>\n",
       "      <th>1</th>\n",
       "      <td>ham</td>\n",
       "      <td>S:)no competition for him.</td>\n",
       "    </tr>\n",
       "    <tr>\n",
       "      <th>2</th>\n",
       "      <td>ham</td>\n",
       "      <td>Yup having my lunch buffet now.. U eat already?</td>\n",
       "    </tr>\n",
       "  </tbody>\n",
       "</table>\n",
       "</div>"
      ],
      "text/plain": [
       "  type                                             text\n",
       "0  ham           Babe, I'm back ... Come back to me ...\n",
       "1  ham                       S:)no competition for him.\n",
       "2  ham  Yup having my lunch buffet now.. U eat already?"
      ]
     },
     "execution_count": 52,
     "metadata": {},
     "output_type": "execute_result"
    }
   ],
   "source": [
    "datasets[TRAIN].head(3)"
   ]
  },
  {
   "cell_type": "code",
   "execution_count": 53,
   "metadata": {},
   "outputs": [],
   "source": [
    "import spacy\n",
    "nlp = spacy.load('en_core_web_sm')\n",
    "\n",
    "def remove_punctuations(df):\n",
    "    df[DATA] = df[DATA].str.replace('\\W', ' ') # remove all punctuations with REGEX\n",
    "    \n",
    "def to_lowercase(df):\n",
    "    df[DATA] = df[DATA].str.lower() # convert all texts into lowercase\n",
    "\n",
    "def lemmatize(sentence):\n",
    "    doc = nlp(sentence) \n",
    "    return ' '.join(token.lemma_ for token in doc) # reconstruct lemmatized words into full sentences again\n",
    "    \n",
    "def lemmatize_df(df):\n",
    "    df[DATA] = df[DATA].apply(lambda sentence: lemmatize(sentence)) # apply lemmatizaiton to all entries in pandas dataframe column\n",
    "    \n",
    "for dataset in datasets.values():\n",
    "    remove_punctuations(dataset)\n",
    "    to_lowercase(dataset)\n",
    "    lemmatize_df(dataset)"
   ]
  },
  {
   "cell_type": "markdown",
   "metadata": {},
   "source": [
    "#### b. after normalization"
   ]
  },
  {
   "cell_type": "code",
   "execution_count": 54,
   "metadata": {},
   "outputs": [
    {
     "data": {
      "text/html": [
       "<div>\n",
       "<style scoped>\n",
       "    .dataframe tbody tr th:only-of-type {\n",
       "        vertical-align: middle;\n",
       "    }\n",
       "\n",
       "    .dataframe tbody tr th {\n",
       "        vertical-align: top;\n",
       "    }\n",
       "\n",
       "    .dataframe thead th {\n",
       "        text-align: right;\n",
       "    }\n",
       "</style>\n",
       "<table border=\"1\" class=\"dataframe\">\n",
       "  <thead>\n",
       "    <tr style=\"text-align: right;\">\n",
       "      <th></th>\n",
       "      <th>type</th>\n",
       "      <th>text</th>\n",
       "    </tr>\n",
       "  </thead>\n",
       "  <tbody>\n",
       "    <tr>\n",
       "      <th>0</th>\n",
       "      <td>ham</td>\n",
       "      <td>babe   i m back      come back to -PRON-</td>\n",
       "    </tr>\n",
       "    <tr>\n",
       "      <th>1</th>\n",
       "      <td>ham</td>\n",
       "      <td>s   no competition for -PRON-</td>\n",
       "    </tr>\n",
       "    <tr>\n",
       "      <th>2</th>\n",
       "      <td>ham</td>\n",
       "      <td>yup have -PRON- lunch buffet now    u eat already</td>\n",
       "    </tr>\n",
       "  </tbody>\n",
       "</table>\n",
       "</div>"
      ],
      "text/plain": [
       "  type                                               text\n",
       "0  ham       babe   i m back      come back to -PRON-    \n",
       "1  ham                      s   no competition for -PRON-\n",
       "2  ham  yup have -PRON- lunch buffet now    u eat already"
      ]
     },
     "execution_count": 54,
     "metadata": {},
     "output_type": "execute_result"
    }
   ],
   "source": [
    "datasets[TRAIN].head(3)"
   ]
  },
  {
   "cell_type": "markdown",
   "metadata": {},
   "source": [
    "### 1.6. Text Tokenizations (Feature Extraction)  <a name=\"feature_extraction\"></a>"
   ]
  },
  {
   "cell_type": "code",
   "execution_count": 55,
   "metadata": {},
   "outputs": [],
   "source": [
    "# Text tokenization: convert sentences into integer encodings\n",
    "from keras.preprocessing.text import Tokenizer\n",
    "tokenizer = None\n",
    "\n",
    "def initTokenizer():\n",
    "    global tokenizer \n",
    "    tokenizer = Tokenizer()\n",
    "    tokenizer.fit_on_texts(datasets[TRAIN][DATA]) # Updates internal vocab based on sentences. Creates a vocabulary index based on word frequency. Lower integer means more frequent word.\n",
    "    \n",
    "def tokenize(label):\n",
    "     return tokenizer.texts_to_sequences(datasets[label][DATA]) # transforms each text into a sequence of integers from word_index dictionary\n",
    "\n",
    "initTokenizer() # initialize tokenizer and create dictionary from training data\n",
    "\n",
    "for label in DATASET_LABELS:\n",
    "    datasets[PREFIX_tkn+label] = tokenize(label)"
   ]
  },
  {
   "cell_type": "code",
   "execution_count": 56,
   "metadata": {},
   "outputs": [
    {
     "name": "stdout",
     "output_type": "stream",
     "text": [
      "applying to ['tokenized_train', 'tokenized_validation', 'tokenized_test']\n",
      "[[16, 32, 1176, 14, 1], [285, 11, 1, 295, 2052, 25, 7, 263, 142]]\n",
      "\n",
      "applying to ['tokenized_train', 'tokenized_validation', 'tokenized_test']\n",
      "[[363, 15, 9, 116, 177, 14, 841, 48], [101, 110, 17, 88, 30, 1289, 1119, 1, 2, 81, 65, 3931, 9, 7, 113, 122, 367, 110, 2, 119, 10, 6, 5604]]\n",
      "\n",
      "applying to ['tokenized_train', 'tokenized_validation', 'tokenized_test']\n",
      "[[27, 7, 253, 190, 315, 56, 42, 3, 84, 1271, 841], [2, 13, 5, 19, 46, 5, 360, 125, 2, 3, 95, 4, 38, 4, 4191, 4192, 2, 15, 17, 10, 6, 426]]\n",
      "\n"
     ]
    }
   ],
   "source": [
    "apply_to_multiple_datasets(TOKENIZED_DATA_LABELS, lambda x: print(x[1:3]))"
   ]
  },
  {
   "cell_type": "markdown",
   "metadata": {},
   "source": [
    "### 1.7. Convert into numpy array and add paddings to token sequence"
   ]
  },
  {
   "cell_type": "code",
   "execution_count": 57,
   "metadata": {},
   "outputs": [],
   "source": [
    "from keras.preprocessing.sequence import pad_sequences\n",
    "\n",
    "# convert tokenized vectors into numpy array (FOR EASIER PROCESSING IN KERAS ML MODEL / SKLEARN ML MODEL)\n",
    "def to_numpy_arr(vector):\n",
    "    return np.array(vector)\n",
    "\n",
    "# add paddings to every sequence at the beginning with 0's\n",
    "# e.g.: when SEQ_LEN is 4:\n",
    "# [ [5, 3, 2], [5, 1, 2, 3], [3, 4] ] will be converted into:\n",
    "# [ [0, 5, 3, 2], [5, 1, 2, 3], [0, 0, 3, 4] ]\n",
    "def call_pad_sequences(vector):\n",
    "    return pad_sequences(vector, maxlen=SEQ_LEN)\n",
    "    \n",
    "for label in TOKENIZED_DATA_LABELS:\n",
    "    datasets[label] = to_numpy_arr(datasets[label])\n",
    "\n",
    "for label in TOKENIZED_DATA_LABELS:\n",
    "    datasets[label] = call_pad_sequences(datasets[label])\n",
    "    \n",
    "for label, label2 in zip(DATASET_TYPE_LABELS, DATASET_LABELS):\n",
    "    datasets[label] = to_numpy_arr(datasets[label2][LABEL])"
   ]
  },
  {
   "cell_type": "markdown",
   "metadata": {},
   "source": [
    "## 2. Spam Classification with Neural Networks <a name=\"nn\"></a>"
   ]
  },
  {
   "cell_type": "markdown",
   "metadata": {},
   "source": [
    "#### a. Training Graph Plotting helper functions"
   ]
  },
  {
   "cell_type": "code",
   "execution_count": 58,
   "metadata": {},
   "outputs": [],
   "source": [
    "# Training history plotting helper functions:\n",
    "import matplotlib.pyplot as pyplot\n",
    "\n",
    "def plot_accuracy(history):\n",
    "    pyplot.plot(history.history['accuracy'])\n",
    "    pyplot.plot(history.history['val_accuracy'])\n",
    "    pyplot.title('model accuracy')\n",
    "    pyplot.ylabel('accuracy')\n",
    "    pyplot.xlabel('epoch')\n",
    "    pyplot.legend(['training', 'validation'], loc='lower right')\n",
    "    pyplot.show()\n",
    "\n",
    "def plot_loss(history):\n",
    "    pyplot.plot(history.history['loss'])\n",
    "    pyplot.plot(history.history['val_loss'])\n",
    "    pyplot.title('model loss')\n",
    "    pyplot.ylabel('loss')\n",
    "    pyplot.xlabel('epoch')\n",
    "    pyplot.legend(['training', 'validation'], loc='upper right')\n",
    "    pyplot.show()"
   ]
  },
  {
   "cell_type": "markdown",
   "metadata": {},
   "source": [
    "#### b. Save and Loading model functions"
   ]
  },
  {
   "cell_type": "code",
   "execution_count": 59,
   "metadata": {},
   "outputs": [],
   "source": [
    "from keras.models import load_model\n",
    "import keras_metrics as km\n",
    "import time\n",
    "\n",
    "def save_model(name):\n",
    "    global model\n",
    "    model.save('{path}/{model_name}_{time}.h5'.format(path=MODELS, model_name=name, time=time.time()))\n",
    "    \n",
    "# del model\n",
    "\n",
    "# load model\n",
    "def load_nn_model(name):\n",
    "    return load_model('{path}/{model_name}.h5'.format(path=MODELS, model_name=name),  custom_objects={'binary_precision':km.binary_precision(), 'binary_recall':km.binary_recall()})"
   ]
  },
  {
   "cell_type": "markdown",
   "metadata": {},
   "source": [
    "#### c. Callbacks for model"
   ]
  },
  {
   "cell_type": "code",
   "execution_count": 60,
   "metadata": {},
   "outputs": [],
   "source": [
    "# Callbacks:\n",
    "from keras.callbacks import EarlyStopping, ReduceLROnPlateau\n",
    "\n",
    "# to prevent unfruitful epochs from further taking training time:\n",
    "earlystop_callback = EarlyStopping(patience=5, monitor='val_loss',min_delta=0.0001)\n",
    "\n",
    "# LR reduction to help recover from stagnation:\n",
    "learning_rate_reduction = ReduceLROnPlateau(monitor='val_accuracy', \n",
    "                                            patience=2, \n",
    "                                            verbose=1, \n",
    "                                            factor=0.5, \n",
    "                                            min_lr=0.00001)\n",
    "# for better visualization:\n",
    "tensorboard = TensorBoard(log_dir=\"./logs/spam_classifier_{time.time()}\")\n",
    "\n",
    "callbacks = [earlystop_callback, learning_rate_reduction, tensorboard]"
   ]
  },
  {
   "cell_type": "markdown",
   "metadata": {},
   "source": [
    "#### d. Prepare data for Neural Networks"
   ]
  },
  {
   "cell_type": "code",
   "execution_count": 61,
   "metadata": {},
   "outputs": [],
   "source": [
    "import numpy as np\n",
    "\n",
    "# vectorize data labels (TYPE) into integer encodings\n",
    "# if 'ham' = 0, if 'spam' = 1 as defined in the dictionary above in constants declaration section\n",
    "def label_to_vectors(labels):\n",
    "    res = np.zeros(len(labels))\n",
    "    for i, label in enumerate(labels):\n",
    "        res[i] = label_to_int[label.lower()]\n",
    "    return res"
   ]
  },
  {
   "cell_type": "markdown",
   "metadata": {},
   "source": [
    "### 2.1. RNN LSTM"
   ]
  },
  {
   "cell_type": "markdown",
   "metadata": {},
   "source": [
    "#### a. Vectorize data and labels"
   ]
  },
  {
   "cell_type": "code",
   "execution_count": 63,
   "metadata": {},
   "outputs": [],
   "source": [
    "for label_ in DATASET_TYPE_LABELS:\n",
    "    datasets[label_+LSTM_NAME] =  label_to_vectors(datasets[label_])"
   ]
  },
  {
   "cell_type": "code",
   "execution_count": 64,
   "metadata": {},
   "outputs": [
    {
     "name": "stdout",
     "output_type": "stream",
     "text": [
      "[  0   0   0   0   0   0   0   0   0   0   0   0   0   0   0   0   0   0\n",
      "   0   0   0   0   0   0   0   0   0   0   0   0   0   0   0   0   0   0\n",
      "   0   0   0   0   0   0   0   0   0   0   0   0   0   0   0   0   0   0\n",
      "   0   0   0   0   0   0   0   0   0   0   0   0   0   0   0   0   0   0\n",
      "   0   0   0   0   0   0   0   0   0   0   0   0   0   0   0   0   0   0\n",
      "   0   0 157   2  26  89  38  89   4   1]\n",
      "[0. 0. 0. ... 0. 1. 0.]\n",
      "[  0   0   0   0   0   0   0   0   0   0   0   0   0   0   0   0   0   0\n",
      "   0   0   0   0   0   0   0   0   0   0   0   0   0   0   0   0   0   0\n",
      "   0   0   0   0   0   0   0   0   0   0   0   0   0   0   0   0   0   0\n",
      "   0   0   0   0   0   0   0   0   0   0   0   0   0   0   0   0   0   0\n",
      "   0   0   0   0   0   0   0   0   0   0   0   0   0   0   0   0   0   0\n",
      "   0   0   1  21  69   5 364  10 308 572]\n",
      "0.0\n"
     ]
    }
   ],
   "source": [
    "print(datasets[TRAIN_tkn][0])\n",
    "print(datasets[TRAIN_LABEL+LSTM_NAME])\n",
    "print(datasets[VAL_tkn][0])\n",
    "print(datasets[VAL_LABEL+LSTM_NAME][0])"
   ]
  },
  {
   "cell_type": "markdown",
   "metadata": {},
   "source": [
    "#### b. Load pre-trained embedding vectors (using GloVe's 100 dimensional vectors)"
   ]
  },
  {
   "cell_type": "code",
   "execution_count": 65,
   "metadata": {},
   "outputs": [],
   "source": [
    "def get_embedding_vectors(tokenizer, dim=100):\n",
    "    embedding_index = {}\n",
    "    # load pre-trained embedding vectors from GloVe to save training time\n",
    "    with open(f\"data/glove.6B.{dim}d.txt\", encoding='utf8') as f:\n",
    "        for line in tqdm.tqdm(f, \"Reading GloVe\"):\n",
    "            values = line.split()\n",
    "            word = values[0]\n",
    "            vectors = np.asarray(values[1:], dtype='float32')\n",
    "            embedding_index[word] = vectors\n",
    "\n",
    "    word_index = tokenizer.word_index\n",
    "    embedding_matrix = np.zeros((len(word_index)+1, dim)) # add 0 paddings according to shape\n",
    "    for word, i in word_index.items():\n",
    "        embedding_vector = embedding_index.get(word)\n",
    "        if embedding_vector is not None:\n",
    "            # words that are not found will be given 0 values\n",
    "            embedding_matrix[i] = embedding_vector\n",
    "            \n",
    "    return embedding_matrix"
   ]
  },
  {
   "cell_type": "markdown",
   "metadata": {},
   "source": [
    "#### c. Construct RNN LSTM"
   ]
  },
  {
   "cell_type": "code",
   "execution_count": 68,
   "metadata": {},
   "outputs": [],
   "source": [
    "from keras.layers import Embedding, LSTM, Dropout, Dense\n",
    "from keras.models import Sequential\n",
    "\n",
    "def get_model(tokenizer, lstm_units):\n",
    "    \"\"\"\n",
    "    Model structure:\n",
    "    Embedding vectors => LSTM => 1 Dense layer -> 1 output layer with sigmoid activation func.\n",
    "    \"\"\"\n",
    "    # read the GloVe embedding vector\n",
    "    embedding_matrix = get_embedding_vectors(tokenizer)\n",
    "    model = Sequential()\n",
    "    model.add(Embedding(len(tokenizer.word_index)+1,\n",
    "              EMBED_SIZE,\n",
    "              weights=[embedding_matrix],\n",
    "              trainable=False,\n",
    "              input_length=SEQ_LEN))\n",
    "\n",
    "    model.add(LSTM(lstm_units, recurrent_dropout=0.2))\n",
    "    model.add(Dropout(0.25))\n",
    "    model.add(Dense(256, activation=\"relu\"))\n",
    "    model.add(Dropout(0.5))\n",
    "    model.add(Dense(1, activation=\"sigmoid\"))\n",
    "    model.compile(optimizer=\"rmsprop\", loss=\"binary_crossentropy\",\n",
    "                  metrics=[\"accuracy\", keras_metrics.precision(), keras_metrics.recall()])\n",
    "    model.summary()\n",
    "    return model"
   ]
  },
  {
   "cell_type": "code",
   "execution_count": 69,
   "metadata": {},
   "outputs": [
    {
     "name": "stderr",
     "output_type": "stream",
     "text": [
      "Reading GloVe: 400000it [00:12, 32563.28it/s]\n"
     ]
    },
    {
     "name": "stdout",
     "output_type": "stream",
     "text": [
      "Model: \"sequential_6\"\n",
      "_________________________________________________________________\n",
      "Layer (type)                 Output Shape              Param #   \n",
      "=================================================================\n",
      "embedding (Embedding)        (None, 100, 100)          685400    \n",
      "_________________________________________________________________\n",
      "lstm (LSTM)                  (None, 128)               117248    \n",
      "_________________________________________________________________\n",
      "dropout_20 (Dropout)         (None, 128)               0         \n",
      "_________________________________________________________________\n",
      "dense_25 (Dense)             (None, 256)               33024     \n",
      "_________________________________________________________________\n",
      "dropout_21 (Dropout)         (None, 256)               0         \n",
      "_________________________________________________________________\n",
      "dense_26 (Dense)             (None, 1)                 257       \n",
      "=================================================================\n",
      "Total params: 835,929\n",
      "Trainable params: 150,529\n",
      "Non-trainable params: 685,400\n",
      "_________________________________________________________________\n"
     ]
    }
   ],
   "source": [
    "# constructs NN model\n",
    "model = get_model(tokenizer=tokenizer, lstm_units=128)"
   ]
  },
  {
   "cell_type": "markdown",
   "metadata": {},
   "source": [
    "#### d. Train model"
   ]
  },
  {
   "cell_type": "code",
   "execution_count": 77,
   "metadata": {},
   "outputs": [
    {
     "name": "stdout",
     "output_type": "stream",
     "text": [
      "train.shape: (4222, 100)\n",
      "validation.shape: (496, 100)\n",
      "train_labels.shape: (4222,)\n",
      "test_labels.shape: (496,)\n",
      "Epoch 1/50\n",
      " 2/43 [>.............................] - ETA: 1:39 - loss: 0.0012 - accuracy: 1.0000 - precision: 1.0000 - recall: 1.0000WARNING:tensorflow:Callbacks method `on_train_batch_end` is slow compared to the batch time (batch time: 0.2379s vs `on_train_batch_end` time: 4.4313s). Check your callbacks.\n",
      "43/43 [==============================] - 14s 320ms/step - loss: 0.0211 - accuracy: 0.9927 - precision: 0.9903 - recall: 0.9826 - val_loss: 0.0739 - val_accuracy: 0.9819 - val_precision: 0.9095 - val_recall: 0.9425\n",
      "Epoch 2/50\n",
      "43/43 [==============================] - 9s 199ms/step - loss: 0.0212 - accuracy: 0.9953 - precision: 0.9903 - recall: 0.9737 - val_loss: 0.0558 - val_accuracy: 0.9839 - val_precision: 0.9391 - val_recall: 0.9059\n",
      "Epoch 3/50\n",
      "43/43 [==============================] - 9s 206ms/step - loss: 0.0097 - accuracy: 0.9976 - precision: 0.9964 - recall: 0.9720 - val_loss: 0.0630 - val_accuracy: 0.9859 - val_precision: 0.9413 - val_recall: 0.9356\n",
      "Epoch 4/50\n",
      "43/43 [==============================] - 9s 218ms/step - loss: 0.0070 - accuracy: 0.9983 - precision: 0.9987 - recall: 0.9918 - val_loss: 0.0548 - val_accuracy: 0.9879 - val_precision: 0.9422 - val_recall: 0.9535\n",
      "Epoch 5/50\n",
      "43/43 [==============================] - 9s 211ms/step - loss: 0.0076 - accuracy: 0.9983 - precision: 0.9993 - recall: 0.9767 - val_loss: 0.0803 - val_accuracy: 0.9819 - val_precision: 0.9388 - val_recall: 0.8994\n",
      "Epoch 6/50\n",
      "43/43 [==============================] - 9s 214ms/step - loss: 0.0076 - accuracy: 0.9976 - precision: 0.9914 - recall: 0.9837 - val_loss: 0.0726 - val_accuracy: 0.9859 - val_precision: 0.9413 - val_recall: 0.9356\n",
      "Epoch 7/50\n",
      "43/43 [==============================] - 9s 212ms/step - loss: 0.0043 - accuracy: 0.9986 - precision: 0.9973 - recall: 0.9904 - val_loss: 0.0743 - val_accuracy: 0.9859 - val_precision: 0.9413 - val_recall: 0.9356\n",
      "Epoch 8/50\n",
      "43/43 [==============================] - 9s 210ms/step - loss: 0.0046 - accuracy: 0.9983 - precision: 0.9968 - recall: 0.9909 - val_loss: 0.1012 - val_accuracy: 0.9839 - val_precision: 0.9409 - val_recall: 0.9246\n",
      "Epoch 9/50\n",
      "43/43 [==============================] - 9s 214ms/step - loss: 0.0031 - accuracy: 0.9988 - precision: 0.9982 - recall: 0.9924 - val_loss: 0.0958 - val_accuracy: 0.9798 - val_precision: 0.9062 - val_recall: 0.9356\n"
     ]
    }
   ],
   "source": [
    "from keras.callbacks import ModelCheckpoint, TensorBoard\n",
    "\n",
    "# model checkpoint for saving best weights\n",
    "# model_checkpoint = ModelCheckpoint(filepath=\"/results/spam_classifier\", save_best_only=True) # have trouble in making this work!!!\n",
    "\n",
    "# DATA SHAPES FOR DEBUGGING INPUT:\n",
    "print(\"train.shape:\", datasets[TRAIN_tkn].shape)\n",
    "print(\"validation.shape:\", datasets[VAL_tkn].shape)\n",
    "print(\"train_labels.shape:\", datasets[TRAIN_LABEL].shape)\n",
    "print(\"test_labels.shape:\", datasets[VAL_LABEL].shape)\n",
    "\n",
    "# start model training\n",
    "history = model.fit(datasets[TRAIN_tkn], datasets[TRAIN_LABEL+LSTM_NAME], validation_data=(datasets[VAL_tkn], datasets[VAL_LABEL+LSTM_NAME]),\n",
    "          batch_size=BATCH_SIZE, epochs=N_EPOCH,\n",
    "          callbacks=[tensorboard, earlystop_callback],\n",
    "          verbose=1)"
   ]
  },
  {
   "cell_type": "markdown",
   "metadata": {},
   "source": [
    "#### f. Save Model"
   ]
  },
  {
   "cell_type": "code",
   "execution_count": 78,
   "metadata": {},
   "outputs": [],
   "source": [
    "save_model(LSTM_NAME)"
   ]
  },
  {
   "cell_type": "markdown",
   "metadata": {},
   "source": [
    "#### g. Plot training graph"
   ]
  },
  {
   "cell_type": "code",
   "execution_count": 79,
   "metadata": {},
   "outputs": [
    {
     "data": {
      "image/png": "[encoded data removed]",
      "text/plain": [
       "<Figure size 432x288 with 1 Axes>"
      ]
     },
     "metadata": {
      "needs_background": "light"
     },
     "output_type": "display_data"
    },
    {
     "data": {
      "image/png": "[encoded data removed]",
      "text/plain": [
       "<Figure size 432x288 with 1 Axes>"
      ]
     },
     "metadata": {
      "needs_background": "light"
     },
     "output_type": "display_data"
    }
   ],
   "source": [
    "# summarize history for accuracy\n",
    "plot_accuracy(history)\n",
    "\n",
    "# summarize history for loss\n",
    "plot_loss(history)"
   ]
  },
  {
   "cell_type": "markdown",
   "metadata": {},
   "source": [
    "#### h. Load model if you don't want to train"
   ]
  },
  {
   "cell_type": "code",
   "execution_count": 80,
   "metadata": {},
   "outputs": [],
   "source": [
    "# model = load_nn_model('LSTM_1601306395.693527')\n",
    "# model = load_model('models/LSTM_1601306395.693527.h5')"
   ]
  },
  {
   "cell_type": "markdown",
   "metadata": {},
   "source": [
    "#### i. Evaluate with Keras"
   ]
  },
  {
   "cell_type": "code",
   "execution_count": 88,
   "metadata": {},
   "outputs": [
    {
     "name": "stdout",
     "output_type": "stream",
     "text": [
      "18/18 [==============================] - 0s 14ms/step - loss: 0.0921 - accuracy: 0.9854 - precision: 0.9797 - recall: 0.8715\n",
      "- Accuracy: 98.54%\n",
      "- Precision:   97.97%\n",
      "- Recall:   87.15%\n"
     ]
    }
   ],
   "source": [
    "# get the loss and metrics\n",
    "result = model.evaluate(datasets[TEST_tkn], datasets[TEST_LABEL+LSTM_NAME])\n",
    "# extract the metrics\n",
    "loss = result[0]\n",
    "accuracy = result[1]\n",
    "precision = result[2]\n",
    "recall = result[3]\n",
    "\n",
    "# print to screen\n",
    "print(f\"- Accuracy: {accuracy*100:.2f}%\")\n",
    "print(f\"- Precision:   {precision*100:.2f}%\")\n",
    "print(f\"- Recall:   {recall*100:.2f}%\")"
   ]
  },
  {
   "cell_type": "markdown",
   "metadata": {},
   "source": [
    "#### i. Evaluate with Sklearn "
   ]
  },
  {
   "cell_type": "code",
   "execution_count": 90,
   "metadata": {},
   "outputs": [
    {
     "name": "stdout",
     "output_type": "stream",
     "text": [
      "0 <class 'numpy.int32'>\n"
     ]
    }
   ],
   "source": [
    "# Predict\n",
    "from sklearn.metrics import classification_report\n",
    "\n",
    "predictions = model.predict_classes(datasets[TEST_tkn])\n",
    "\n",
    "print(predictions[0][0], type(predictions[0][0]))"
   ]
  },
  {
   "cell_type": "code",
   "execution_count": 91,
   "metadata": {},
   "outputs": [
    {
     "name": "stdout",
     "output_type": "stream",
     "text": [
      "              precision    recall  f1-score   support\n",
      "\n",
      "         0.0       0.99      1.00      0.99       477\n",
      "         1.0       0.98      0.90      0.94        72\n",
      "\n",
      "    accuracy                           0.99       549\n",
      "   macro avg       0.99      0.95      0.97       549\n",
      "weighted avg       0.99      0.99      0.99       549\n",
      "\n"
     ]
    }
   ],
   "source": [
    "# build classification report with sklearn API\n",
    "print(classification_report(y_true=datasets[TEST_LABEL+LSTM_NAME], y_pred=predictions))"
   ]
  },
  {
   "cell_type": "code",
   "execution_count": 86,
   "metadata": {},
   "outputs": [],
   "source": [
    "def get_predictions(text):\n",
    "    sequence = tokenizer.texts_to_sequences([text])\n",
    "    # add paddings to input text\n",
    "    sequence = pad_sequences(sequence, maxlen=SEQ_LEN)\n",
    "    # predict:\n",
    "    prediction = model.predict(sequence)[0]\n",
    "    # encode back into terms \"spam\" or \"ham\"\n",
    "    return int_to_label[np.argmax(prediction)]"
   ]
  },
  {
   "cell_type": "code",
   "execution_count": 87,
   "metadata": {},
   "outputs": [
    {
     "name": "stdout",
     "output_type": "stream",
     "text": [
      "ham\n",
      "ham\n"
     ]
    }
   ],
   "source": [
    "text = \"Had your contract mobile 11 Mnths? Latest Motorola, Nokia etc. all FREE! Double Mins & Text on Orange tariffs. TEXT YES for callback, no to remove from records\"\n",
    "print(get_predictions(text))\n",
    "\n",
    "text = \"Gr8 new service - live sex video chat on your mob - see the sexiest dirtiest girls live on ur phone - 4 details text horny to 89070 to cancel send STOP to 89070\"\n",
    "print(get_predictions(text))\n",
    "\n",
    "## why?!??!?!"
   ]
  },
  {
   "cell_type": "markdown",
   "metadata": {},
   "source": [
    "### 2.2. Fully Connected Neural Network (ANN)"
   ]
  },
  {
   "cell_type": "markdown",
   "metadata": {},
   "source": [
    "#### a. Vectorize data and labels"
   ]
  },
  {
   "cell_type": "code",
   "execution_count": 92,
   "metadata": {},
   "outputs": [],
   "source": [
    "for label_ in DATASET_TYPE_LABELS:\n",
    "    datasets[label_+ANN_NAME] =  label_to_vectors(datasets[label_])"
   ]
  },
  {
   "cell_type": "code",
   "execution_count": 93,
   "metadata": {},
   "outputs": [
    {
     "data": {
      "text/plain": [
       "array(['ham', 'ham', 'ham', ..., 'ham', 'spam', 'ham'], dtype=object)"
      ]
     },
     "execution_count": 93,
     "metadata": {},
     "output_type": "execute_result"
    }
   ],
   "source": [
    "datasets[TRAIN_LABEL]"
   ]
  },
  {
   "cell_type": "markdown",
   "metadata": {},
   "source": [
    "#### b. Construct NN Model"
   ]
  },
  {
   "cell_type": "code",
   "execution_count": 94,
   "metadata": {},
   "outputs": [],
   "source": [
    "import keras\n",
    "import keras_metrics\n",
    "\n",
    "# build layers with Keras API\n",
    "model = Sequential()\n",
    "model.add(Dense(8270, activation='relu'))\n",
    "model.add(Dropout(0.25))\n",
    "model.add(Dense(4000, activation='relu'))\n",
    "model.add(Dropout(0.3))\n",
    "model.add(Dense(1000, activation='relu'))\n",
    "model.add(Dropout(0.4))\n",
    "model.add(Dense(400, activation='relu'))\n",
    "model.add(Dropout(0.5))\n",
    "model.add(Dense(units=1,activation='sigmoid'))\n",
    "model.compile(optimizer='adam',loss='binary_crossentropy',metrics=['accuracy', keras.metrics.Precision(), keras.metrics.Recall()])"
   ]
  },
  {
   "cell_type": "markdown",
   "metadata": {},
   "source": [
    "c. Train the model"
   ]
  },
  {
   "cell_type": "code",
   "execution_count": 95,
   "metadata": {},
   "outputs": [
    {
     "name": "stdout",
     "output_type": "stream",
     "text": [
      "Epoch 1/50\n",
      " 2/43 [>.............................] - ETA: 50s - loss: 357.7846 - accuracy: 0.6450 - precision_4: 0.1270 - recall_4: 0.3333WARNING:tensorflow:Callbacks method `on_train_batch_end` is slow compared to the batch time (batch time: 0.3047s vs `on_train_batch_end` time: 2.0258s). Check your callbacks.\n",
      "43/43 [==============================] - 17s 391ms/step - loss: 60.6991 - accuracy: 0.7520 - precision_4: 0.1824 - recall_4: 0.2675 - val_loss: 4.7654 - val_accuracy: 0.8589 - val_precision_4: 0.0000e+00 - val_recall_4: 0.0000e+00\n",
      "Epoch 2/50\n",
      "43/43 [==============================] - 13s 297ms/step - loss: 4.4096 - accuracy: 0.8081 - precision_4: 0.2832 - recall_4: 0.3229 - val_loss: 0.7177 - val_accuracy: 0.8206 - val_precision_4: 0.4059 - val_recall_4: 0.5857\n",
      "Epoch 3/50\n",
      "43/43 [==============================] - 13s 296ms/step - loss: 1.5952 - accuracy: 0.8252 - precision_4: 0.3399 - recall_4: 0.3838 - val_loss: 0.6018 - val_accuracy: 0.8851 - val_precision_4: 0.6667 - val_recall_4: 0.3714\n",
      "Epoch 4/50\n",
      "43/43 [==============================] - 12s 288ms/step - loss: 1.2278 - accuracy: 0.8389 - precision_4: 0.3818 - recall_4: 0.4114 - val_loss: 0.4939 - val_accuracy: 0.8952 - val_precision_4: 0.6607 - val_recall_4: 0.5286\n",
      "Epoch 5/50\n",
      "43/43 [==============================] - 13s 304ms/step - loss: 0.8373 - accuracy: 0.8640 - precision_4: 0.4719 - recall_4: 0.4963 - val_loss: 0.5254 - val_accuracy: 0.8952 - val_precision_4: 0.7143 - val_recall_4: 0.4286\n",
      "Epoch 6/50\n",
      "43/43 [==============================] - ETA: 0s - loss: 0.8793 - accuracy: 0.8702 - precision_4: 0.4944 - recall_4: 0.4871\n",
      "Epoch 00006: ReduceLROnPlateau reducing learning rate to 0.0005000000237487257.\n",
      "43/43 [==============================] - 13s 311ms/step - loss: 0.8793 - accuracy: 0.8702 - precision_4: 0.4944 - recall_4: 0.4871 - val_loss: 0.4644 - val_accuracy: 0.8871 - val_precision_4: 0.6167 - val_recall_4: 0.5286\n",
      "Epoch 7/50\n",
      "43/43 [==============================] - 13s 296ms/step - loss: 0.5961 - accuracy: 0.8847 - precision_4: 0.5497 - recall_4: 0.5609 - val_loss: 0.4346 - val_accuracy: 0.9093 - val_precision_4: 0.7551 - val_recall_4: 0.5286\n",
      "Epoch 8/50\n",
      "43/43 [==============================] - 12s 285ms/step - loss: 0.4784 - accuracy: 0.8972 - precision_4: 0.6093 - recall_4: 0.5554 - val_loss: 0.4183 - val_accuracy: 0.9052 - val_precision_4: 0.7347 - val_recall_4: 0.5143\n",
      "Epoch 9/50\n",
      "43/43 [==============================] - 13s 298ms/step - loss: 0.4405 - accuracy: 0.9055 - precision_4: 0.6362 - recall_4: 0.6162 - val_loss: 0.4156 - val_accuracy: 0.9153 - val_precision_4: 0.7593 - val_recall_4: 0.5857\n",
      "Epoch 10/50\n",
      "43/43 [==============================] - 13s 294ms/step - loss: 0.4093 - accuracy: 0.9086 - precision_4: 0.6423 - recall_4: 0.6494 - val_loss: 0.4114 - val_accuracy: 0.9153 - val_precision_4: 0.8333 - val_recall_4: 0.5000\n",
      "Epoch 11/50\n",
      "43/43 [==============================] - 13s 294ms/step - loss: 0.3393 - accuracy: 0.9216 - precision_4: 0.7114 - recall_4: 0.6550 - val_loss: 0.4099 - val_accuracy: 0.9173 - val_precision_4: 0.7959 - val_recall_4: 0.5571\n",
      "Epoch 12/50\n",
      "43/43 [==============================] - 13s 310ms/step - loss: 0.3172 - accuracy: 0.9268 - precision_4: 0.7245 - recall_4: 0.6937 - val_loss: 0.4045 - val_accuracy: 0.9194 - val_precision_4: 0.8261 - val_recall_4: 0.5429\n",
      "Epoch 13/50\n",
      "43/43 [==============================] - 13s 298ms/step - loss: 0.3133 - accuracy: 0.9263 - precision_4: 0.7278 - recall_4: 0.6808 - val_loss: 0.4119 - val_accuracy: 0.9073 - val_precision_4: 0.8000 - val_recall_4: 0.4571\n",
      "Epoch 14/50\n",
      "43/43 [==============================] - ETA: 0s - loss: 0.2874 - accuracy: 0.9327 - precision_4: 0.7510 - recall_4: 0.7122\n",
      "Epoch 00014: ReduceLROnPlateau reducing learning rate to 0.0002500000118743628.\n",
      "43/43 [==============================] - 13s 299ms/step - loss: 0.2874 - accuracy: 0.9327 - precision_4: 0.7510 - recall_4: 0.7122 - val_loss: 0.3990 - val_accuracy: 0.9133 - val_precision_4: 0.8000 - val_recall_4: 0.5143\n",
      "Epoch 15/50\n",
      "43/43 [==============================] - 13s 299ms/step - loss: 0.2375 - accuracy: 0.9405 - precision_4: 0.7740 - recall_4: 0.7583 - val_loss: 0.4309 - val_accuracy: 0.9113 - val_precision_4: 0.7600 - val_recall_4: 0.5429\n",
      "Epoch 16/50\n",
      "43/43 [==============================] - 13s 305ms/step - loss: 0.2338 - accuracy: 0.9481 - precision_4: 0.8148 - recall_4: 0.7712 - val_loss: 0.4455 - val_accuracy: 0.9214 - val_precision_4: 0.7925 - val_recall_4: 0.6000\n",
      "Epoch 17/50\n",
      "43/43 [==============================] - 13s 305ms/step - loss: 0.2216 - accuracy: 0.9493 - precision_4: 0.8004 - recall_4: 0.8063 - val_loss: 0.4247 - val_accuracy: 0.9173 - val_precision_4: 0.8222 - val_recall_4: 0.5286\n",
      "Epoch 18/50\n",
      "43/43 [==============================] - ETA: 0s - loss: 0.1916 - accuracy: 0.9559 - precision_4: 0.8410 - recall_4: 0.8100\n",
      "Epoch 00018: ReduceLROnPlateau reducing learning rate to 0.0001250000059371814.\n",
      "43/43 [==============================] - 13s 309ms/step - loss: 0.1916 - accuracy: 0.9559 - precision_4: 0.8410 - recall_4: 0.8100 - val_loss: 0.4497 - val_accuracy: 0.9173 - val_precision_4: 0.8085 - val_recall_4: 0.5429\n",
      "Epoch 19/50\n",
      "43/43 [==============================] - 14s 317ms/step - loss: 0.1768 - accuracy: 0.9559 - precision_4: 0.8490 - recall_4: 0.7989 - val_loss: 0.4563 - val_accuracy: 0.9194 - val_precision_4: 0.8125 - val_recall_4: 0.5571\n",
      "Model: \"sequential_7\"\n",
      "_________________________________________________________________\n",
      "Layer (type)                 Output Shape              Param #   \n",
      "=================================================================\n",
      "dense_27 (Dense)             (None, 8270)              835270    \n",
      "_________________________________________________________________\n",
      "dropout_22 (Dropout)         (None, 8270)              0         \n",
      "_________________________________________________________________\n",
      "dense_28 (Dense)             (None, 4000)              33084000  \n",
      "_________________________________________________________________\n",
      "dropout_23 (Dropout)         (None, 4000)              0         \n",
      "_________________________________________________________________\n",
      "dense_29 (Dense)             (None, 1000)              4001000   \n",
      "_________________________________________________________________\n",
      "dropout_24 (Dropout)         (None, 1000)              0         \n",
      "_________________________________________________________________\n",
      "dense_30 (Dense)             (None, 400)               400400    \n",
      "_________________________________________________________________\n",
      "dropout_25 (Dropout)         (None, 400)               0         \n",
      "_________________________________________________________________\n",
      "dense_31 (Dense)             (None, 1)                 401       \n",
      "=================================================================\n",
      "Total params: 38,321,071\n",
      "Trainable params: 38,321,071\n",
      "Non-trainable params: 0\n",
      "_________________________________________________________________\n"
     ]
    }
   ],
   "source": [
    "# Train the model\n",
    "history = model.fit(datasets[TRAIN_tkn], datasets[TRAIN_LABEL+ANN_NAME], validation_data=(datasets[VAL_tkn], datasets[VAL_LABEL+ANN_NAME]),\n",
    "          batch_size=BATCH_SIZE, epochs=N_EPOCH,\n",
    "          callbacks=callbacks,\n",
    "          verbose=1)\n",
    "model.summary()"
   ]
  },
  {
   "cell_type": "markdown",
   "metadata": {},
   "source": [
    "#### d.  Save the model"
   ]
  },
  {
   "cell_type": "code",
   "execution_count": 96,
   "metadata": {},
   "outputs": [],
   "source": [
    "save_model(ANN_NAME)"
   ]
  },
  {
   "cell_type": "markdown",
   "metadata": {},
   "source": [
    "#### e. Plot training graph"
   ]
  },
  {
   "cell_type": "code",
   "execution_count": 97,
   "metadata": {},
   "outputs": [
    {
     "data": {
      "image/png": "[encoded data removed]",
      "text/plain": [
       "<Figure size 432x288 with 1 Axes>"
      ]
     },
     "metadata": {
      "needs_background": "light"
     },
     "output_type": "display_data"
    },
    {
     "data": {
      "image/png": "[encoded data removed]",
      "text/plain": [
       "<Figure size 432x288 with 1 Axes>"
      ]
     },
     "metadata": {
      "needs_background": "light"
     },
     "output_type": "display_data"
    }
   ],
   "source": [
    "# summarize history for accuracy\n",
    "plot_accuracy(history)\n",
    "\n",
    "# summarize history for loss\n",
    "plot_loss(history)"
   ]
  },
  {
   "cell_type": "markdown",
   "metadata": {},
   "source": [
    "#### f. Load model if you don't want to train"
   ]
  },
  {
   "cell_type": "code",
   "execution_count": 902,
   "metadata": {},
   "outputs": [],
   "source": [
    "# model = load_nn_model('ANN_1601306892.6707685')"
   ]
  },
  {
   "cell_type": "markdown",
   "metadata": {},
   "source": [
    "#### g. Evaluate with Keras "
   ]
  },
  {
   "cell_type": "code",
   "execution_count": 99,
   "metadata": {},
   "outputs": [
    {
     "name": "stdout",
     "output_type": "stream",
     "text": [
      "18/18 [==============================] - 0s 18ms/step - loss: 0.3976 - accuracy: 0.9071 - precision_4: 0.6909 - recall_4: 0.5278\n",
      "- Accuracy: 90.71%\n",
      "- Precision:   69.09%\n",
      "- Recall:   52.78%\n"
     ]
    }
   ],
   "source": [
    "# get the loss and metrics\n",
    "result = model.evaluate(datasets[TEST_tkn], datasets[TEST_LABEL+LSTM_NAME])\n",
    "# extract the metrics\n",
    "loss = result[0]\n",
    "accuracy = result[1]\n",
    "precision = result[2]\n",
    "recall = result[3]\n",
    "\n",
    "# print to screen\n",
    "print(f\"- Accuracy: {accuracy*100:.2f}%\")\n",
    "print(f\"- Precision:   {precision*100:.2f}%\")\n",
    "print(f\"- Recall:   {recall*100:.2f}%\")"
   ]
  },
  {
   "cell_type": "markdown",
   "metadata": {},
   "source": [
    "#### h. Evaluate with sklearn "
   ]
  },
  {
   "cell_type": "code",
   "execution_count": 100,
   "metadata": {},
   "outputs": [
    {
     "data": {
      "text/plain": [
       "array([[0],\n",
       "       [0]])"
      ]
     },
     "execution_count": 100,
     "metadata": {},
     "output_type": "execute_result"
    }
   ],
   "source": [
    "# Predict\n",
    "from sklearn.metrics import classification_report\n",
    "\n",
    "predictions = model.predict_classes(datasets[TEST_tkn])\n",
    "\n",
    "predictions[0:2]"
   ]
  },
  {
   "cell_type": "code",
   "execution_count": 101,
   "metadata": {},
   "outputs": [
    {
     "data": {
      "text/plain": [
       "'ham'"
      ]
     },
     "execution_count": 101,
     "metadata": {},
     "output_type": "execute_result"
    }
   ],
   "source": [
    "datasets[TEST_LABEL][0]"
   ]
  },
  {
   "cell_type": "code",
   "execution_count": 102,
   "metadata": {},
   "outputs": [
    {
     "name": "stdout",
     "output_type": "stream",
     "text": [
      "              precision    recall  f1-score   support\n",
      "\n",
      "         0.0       0.93      0.96      0.95       477\n",
      "         1.0       0.69      0.53      0.60        72\n",
      "\n",
      "    accuracy                           0.91       549\n",
      "   macro avg       0.81      0.75      0.77       549\n",
      "weighted avg       0.90      0.91      0.90       549\n",
      "\n"
     ]
    }
   ],
   "source": [
    "print(classification_report(y_true=datasets[TEST_LABEL+ANN_NAME], y_pred=predictions))"
   ]
  },
  {
   "cell_type": "markdown",
   "metadata": {},
   "source": [
    "## 2. Spam Classification with Naive Bayes <a name=\"naive_bayes\"></a>"
   ]
  },
  {
   "cell_type": "markdown",
   "metadata": {},
   "source": [
    "### 2.1. Convert collection of text documents to matrix token counts"
   ]
  },
  {
   "cell_type": "code",
   "execution_count": 103,
   "metadata": {},
   "outputs": [
    {
     "name": "stdout",
     "output_type": "stream",
     "text": [
      "6815\n"
     ]
    }
   ],
   "source": [
    "# BOW = BAG OF WORDS\n",
    "# Learn a vocabulary dictionary of all tokens in the raw documents.\n",
    "from sklearn.feature_extraction.text import CountVectorizer\n",
    "transform_bow = CountVectorizer().fit(datasets[TRAIN][DATA])\n",
    "\n",
    "print(len(transform_bow.vocabulary_))"
   ]
  },
  {
   "cell_type": "code",
   "execution_count": 105,
   "metadata": {},
   "outputs": [
    {
     "name": "stdout",
     "output_type": "stream",
     "text": [
      "  (0, 1769)\t1\n",
      "  (0, 2630)\t1\n",
      "  (0, 4254)\t1\n",
      "  (0, 4842)\t1\n",
      "(1, 6815)\n"
     ]
    }
   ],
   "source": [
    "# TEST:\n",
    "dummy=transform_bow.transform([datasets[TRAIN][DATA][1]])\n",
    "print(dummy)\n",
    "print(dummy.shape)"
   ]
  },
  {
   "cell_type": "markdown",
   "metadata": {},
   "source": [
    "### 2.2. Transform our datasets"
   ]
  },
  {
   "cell_type": "code",
   "execution_count": 107,
   "metadata": {},
   "outputs": [],
   "source": [
    "# Transform documents to document-term matrix.\n",
    "train_bow = transform_bow.transform(datasets[TRAIN][DATA])\n",
    "test_bow = transform_bow.transform(datasets[TEST][DATA])"
   ]
  },
  {
   "cell_type": "code",
   "execution_count": 108,
   "metadata": {},
   "outputs": [
    {
     "name": "stdout",
     "output_type": "stream",
     "text": [
      "Sparse matrix shape:  (4222, 6815)\n",
      "Non-zero occurence count: 53442\n"
     ]
    }
   ],
   "source": [
    "print('Sparse matrix shape: ',train_bow.shape)\n",
    "print('Non-zero occurence count:',train_bow.nnz)"
   ]
  },
  {
   "cell_type": "code",
   "execution_count": 109,
   "metadata": {},
   "outputs": [
    {
     "name": "stdout",
     "output_type": "stream",
     "text": [
      "sparsity metric :0\n"
     ]
    }
   ],
   "source": [
    "sparsity =(100.0 * train_bow.nnz/(train_bow.shape[0]*train_bow.shape[1]))\n",
    "print('sparsity metric :{}'.format(round(sparsity)))"
   ]
  },
  {
   "cell_type": "markdown",
   "metadata": {},
   "source": [
    "### 2.3. Prepare TF-IDF for term weighting and normalization"
   ]
  },
  {
   "cell_type": "code",
   "execution_count": 110,
   "metadata": {},
   "outputs": [
    {
     "name": "stdout",
     "output_type": "stream",
     "text": [
      "  (0, 4842)\t0.15827683674147724\n",
      "  (0, 4254)\t0.41214260181675894\n",
      "  (0, 2630)\t0.34752209998718064\n",
      "  (0, 1769)\t0.8272335273302963\n"
     ]
    }
   ],
   "source": [
    "# Transform a count matrix to a normalized tf or tf-idf representation\n",
    "from sklearn.feature_extraction.text import TfidfTransformer\n",
    "tfidf_transformer=TfidfTransformer().fit(train_bow)\n",
    "tfidf_dummy = tfidf_transformer.transform(dummy)\n",
    "\n",
    "print(tfidf_dummy)"
   ]
  },
  {
   "cell_type": "code",
   "execution_count": 111,
   "metadata": {},
   "outputs": [
    {
     "name": "stdout",
     "output_type": "stream",
     "text": [
      "(4222, 6815)\n"
     ]
    }
   ],
   "source": [
    "# Transform a count matrix to a tf or tf-idf representation\n",
    "train_tfidf=tfidf_transformer.transform(train_bow)\n",
    "test_tfidf = tfidf_transformer.transform(test_bow)\n",
    "print(train_tfidf.shape)"
   ]
  },
  {
   "cell_type": "markdown",
   "metadata": {},
   "source": [
    "### 2.4. Prepare Naive Bayes Model"
   ]
  },
  {
   "cell_type": "code",
   "execution_count": 112,
   "metadata": {},
   "outputs": [],
   "source": [
    "from sklearn.naive_bayes import MultinomialNB\n",
    "spam_detect_model = MultinomialNB().fit(train_tfidf, datasets[TRAIN][LABEL])"
   ]
  },
  {
   "cell_type": "code",
   "execution_count": 114,
   "metadata": {},
   "outputs": [
    {
     "name": "stdout",
     "output_type": "stream",
     "text": [
      "predicted: ham\n",
      "expected: ham\n"
     ]
    }
   ],
   "source": [
    "print('predicted:',spam_detect_model.predict(tfidf_dummy)[0])\n",
    "print('expected:', datasets[TEST][LABEL][0])"
   ]
  },
  {
   "cell_type": "markdown",
   "metadata": {},
   "source": [
    "### 2.5. Construct a pipeline for easier reuse"
   ]
  },
  {
   "cell_type": "code",
   "execution_count": 118,
   "metadata": {},
   "outputs": [],
   "source": [
    "# automatically extract features with CountVectorizer + TfidfTransformer (or TfidfVectorizer for 1 operation only) and classify with Multinomial NB\n",
    "# raw input is the pure preprocessed dataset + labels (NO NEED FOR FEATURE EXTRACTION before the pipeline!)\n",
    "\n",
    "from sklearn.pipeline import Pipeline\n",
    "pipeline = Pipeline([\n",
    "    ('bow',CountVectorizer()),\n",
    "    ('tfidf',TfidfTransformer()),\n",
    "    ('multinb',MultinomialNB()),\n",
    "])"
   ]
  },
  {
   "cell_type": "markdown",
   "metadata": {},
   "source": [
    "### 2.6. Train & Evaluate Model (DEFAULT PARAM)"
   ]
  },
  {
   "cell_type": "code",
   "execution_count": 120,
   "metadata": {},
   "outputs": [
    {
     "data": {
      "text/plain": [
       "Pipeline(memory=None,\n",
       "         steps=[('bow',\n",
       "                 CountVectorizer(analyzer='word', binary=False,\n",
       "                                 decode_error='strict',\n",
       "                                 dtype=<class 'numpy.int64'>, encoding='utf-8',\n",
       "                                 input='content', lowercase=True, max_df=1.0,\n",
       "                                 max_features=None, min_df=1,\n",
       "                                 ngram_range=(1, 1), preprocessor=None,\n",
       "                                 stop_words=None, strip_accents=None,\n",
       "                                 token_pattern='(?u)\\\\b\\\\w\\\\w+\\\\b',\n",
       "                                 tokenizer=None, vocabulary=None)),\n",
       "                ('tfidf',\n",
       "                 TfidfTransformer(norm='l2', smooth_idf=True,\n",
       "                                  sublinear_tf=False, use_idf=True)),\n",
       "                ('multinb',\n",
       "                 MultinomialNB(alpha=1.0, class_prior=None, fit_prior=True))],\n",
       "         verbose=False)"
      ]
     },
     "execution_count": 120,
     "metadata": {},
     "output_type": "execute_result"
    }
   ],
   "source": [
    "pipeline.fit(datasets[TRAIN][DATA], datasets[TRAIN][LABEL])"
   ]
  },
  {
   "cell_type": "code",
   "execution_count": 121,
   "metadata": {},
   "outputs": [],
   "source": [
    "predictions = pipeline.predict(datasets[TEST][DATA])"
   ]
  },
  {
   "cell_type": "code",
   "execution_count": 122,
   "metadata": {},
   "outputs": [
    {
     "name": "stdout",
     "output_type": "stream",
     "text": [
      "              precision    recall  f1-score   support\n",
      "\n",
      "         ham       0.97      1.00      0.98       477\n",
      "        spam       1.00      0.76      0.87        72\n",
      "\n",
      "    accuracy                           0.97       549\n",
      "   macro avg       0.98      0.88      0.92       549\n",
      "weighted avg       0.97      0.97      0.97       549\n",
      "\n"
     ]
    }
   ],
   "source": [
    "from sklearn.metrics import classification_report\n",
    "print(classification_report(y_true=datasets[TEST][LABEL], y_pred=predictions))"
   ]
  },
  {
   "cell_type": "markdown",
   "metadata": {},
   "source": [
    "### 2.7. Estimate Hyperparameters"
   ]
  },
  {
   "cell_type": "code",
   "execution_count": 116,
   "metadata": {},
   "outputs": [
    {
     "name": "stdout",
     "output_type": "stream",
     "text": [
      "Best Score:  0.9697575757575757\n",
      "Best Params:  {'bow__ngram_range': (1, 2), 'multinb__alpha': 0.1, 'multinb__fit_prior': True, 'tfidf__norm': 'l2', 'tfidf__smooth_idf': True, 'tfidf__sublinear_tf': True, 'tfidf__use_idf': True}\n"
     ]
    }
   ],
   "source": [
    "from sklearn.model_selection import GridSearchCV\n",
    "clf = GridSearchCV(pipeline, {\n",
    "    'bow__ngram_range': [(1, 1), (1, 2)],\n",
    "    'tfidf__norm': ('l1', 'l2'),\n",
    "    'tfidf__use_idf': (True, False),\n",
    "    'tfidf__sublinear_tf': (True, False),\n",
    "    'tfidf__smooth_idf': (True, False),\n",
    "    'multinb__fit_prior': [True, False],\n",
    "    'multinb__alpha': np.linspace(0.1, 1.5, 6) # best: 0.1\n",
    "})\n",
    "clf.fit(datasets[VAL][DATA], datasets[VAL][LABEL])\n",
    "\n",
    "print(\"Best Score: \", clf.best_score_)\n",
    "print(\"Best Params: \", clf.best_params_)"
   ]
  },
  {
   "cell_type": "markdown",
   "metadata": {},
   "source": [
    "### 2.8. Rebuild Pipeline with tuned hyperparameters"
   ]
  },
  {
   "cell_type": "code",
   "execution_count": 123,
   "metadata": {},
   "outputs": [],
   "source": [
    "from sklearn.pipeline import Pipeline\n",
    "pipeline = Pipeline([\n",
    "    ('bow',CountVectorizer(ngram_range= (1, 2))),\n",
    "    ('tfidf',TfidfTransformer(norm='l2', smooth_idf=True, sublinear_tf=True, use_idf=True)),\n",
    "    ('multinb',MultinomialNB(alpha=0.1, fit_prior=True)),\n",
    "])"
   ]
  },
  {
   "cell_type": "code",
   "execution_count": 124,
   "metadata": {},
   "outputs": [
    {
     "data": {
      "text/plain": [
       "Pipeline(memory=None,\n",
       "         steps=[('bow',\n",
       "                 CountVectorizer(analyzer='word', binary=False,\n",
       "                                 decode_error='strict',\n",
       "                                 dtype=<class 'numpy.int64'>, encoding='utf-8',\n",
       "                                 input='content', lowercase=True, max_df=1.0,\n",
       "                                 max_features=None, min_df=1,\n",
       "                                 ngram_range=(1, 2), preprocessor=None,\n",
       "                                 stop_words=None, strip_accents=None,\n",
       "                                 token_pattern='(?u)\\\\b\\\\w\\\\w+\\\\b',\n",
       "                                 tokenizer=None, vocabulary=None)),\n",
       "                ('tfidf',\n",
       "                 TfidfTransformer(norm='l2', smooth_idf=True, sublinear_tf=True,\n",
       "                                  use_idf=True)),\n",
       "                ('multinb',\n",
       "                 MultinomialNB(alpha=0.1, class_prior=None, fit_prior=True))],\n",
       "         verbose=False)"
      ]
     },
     "execution_count": 124,
     "metadata": {},
     "output_type": "execute_result"
    }
   ],
   "source": [
    "pipeline.fit(datasets[TRAIN][DATA], datasets[TRAIN][LABEL])"
   ]
  },
  {
   "cell_type": "markdown",
   "metadata": {},
   "source": [
    "### 2.9. Re-evaluate Model"
   ]
  },
  {
   "cell_type": "code",
   "execution_count": 125,
   "metadata": {},
   "outputs": [],
   "source": [
    "predictions = pipeline.predict(datasets[TEST][DATA])"
   ]
  },
  {
   "cell_type": "code",
   "execution_count": 126,
   "metadata": {},
   "outputs": [
    {
     "name": "stdout",
     "output_type": "stream",
     "text": [
      "              precision    recall  f1-score   support\n",
      "\n",
      "         ham       0.99      1.00      0.99       477\n",
      "        spam       1.00      0.90      0.95        72\n",
      "\n",
      "    accuracy                           0.99       549\n",
      "   macro avg       0.99      0.95      0.97       549\n",
      "weighted avg       0.99      0.99      0.99       549\n",
      "\n"
     ]
    }
   ],
   "source": [
    "from sklearn.metrics import classification_report\n",
    "print(classification_report(y_true=datasets[TEST][LABEL], y_pred=predictions))"
   ]
  },
  {
   "cell_type": "code",
   "execution_count": 834,
   "metadata": {},
   "outputs": [],
   "source": [
    "# from sklearn.metrics import roc_auc_score\n",
    "# roc_auc_score(datasets[TEST][LABEL], predictions)"
   ]
  },
  {
   "cell_type": "markdown",
   "metadata": {},
   "source": [
    "## 3. Spam Classification with SVM <a name=\"svm\"></a>"
   ]
  },
  {
   "cell_type": "markdown",
   "metadata": {},
   "source": [
    "### 3.1. Encode Data Labels (Feature Extraction) <a name=\"feature_extraction2\"></a>"
   ]
  },
  {
   "cell_type": "code",
   "execution_count": 127,
   "metadata": {},
   "outputs": [],
   "source": [
    "from sklearn.preprocessing import LabelEncoder\n",
    "from sklearn.feature_extraction.text import TfidfVectorizer\n",
    "from sklearn import model_selection, naive_bayes, svm\n",
    "from sklearn.metrics import accuracy_score"
   ]
  },
  {
   "cell_type": "code",
   "execution_count": 147,
   "metadata": {},
   "outputs": [],
   "source": [
    "# use sklearn Label Encoder this time:\n",
    "Encoder = LabelEncoder() # label normalizer\n",
    "\n",
    "# Fit label encoder and return encoded labels\n",
    "Train_Y = Encoder.fit_transform(datasets[TRAIN][LABEL])\n",
    "Val_Y = Encoder.fit_transform(datasets[VAL][LABEL])\n",
    "Test_Y = Encoder.fit_transform(datasets[TEST][LABEL])"
   ]
  },
  {
   "cell_type": "code",
   "execution_count": 140,
   "metadata": {},
   "outputs": [],
   "source": [
    "from sklearn.feature_extraction.text import CountVectorizer\n",
    "# Learn a vocabulary dictionary of all tokens in the raw documents.\n",
    "transform_bow = CountVectorizer().fit(datasets[TRAIN][DATA])\n",
    "\n",
    "# Transform documents to document-term matrix.\n",
    "train_bow = transform_bow.transform(datasets[TRAIN][DATA])\n",
    "val_bow = transform_bow.transform(datasets[VAL][DATA])\n",
    "test_bow = transform_bow.transform(datasets[TEST][DATA])"
   ]
  },
  {
   "cell_type": "code",
   "execution_count": 141,
   "metadata": {},
   "outputs": [],
   "source": [
    "from sklearn.feature_extraction.text import TfidfTransformer\n",
    "# Transform a count matrix to a normalized tf or tf-idf representation\n",
    "tfidf_transformer=TfidfTransformer().fit(train_bow)\n",
    "\n",
    "# Transform a count matrix to a tf or tf-idf representation\n",
    "train_tfidf = tfidf_transformer.transform(train_bow)\n",
    "val_tfidf = tfidf_transformer.transform(val_bow)\n",
    "test_tfidf = tfidf_transformer.transform(test_bow)"
   ]
  },
  {
   "cell_type": "markdown",
   "metadata": {},
   "source": [
    "### 3.2. Train SVM (DEFAULT PARAM)"
   ]
  },
  {
   "cell_type": "code",
   "execution_count": 148,
   "metadata": {},
   "outputs": [
    {
     "data": {
      "text/plain": [
       "SVC(C=1.0, break_ties=False, cache_size=200, class_weight=None, coef0=0.0,\n",
       "    decision_function_shape='ovr', degree=3, gamma='scale', kernel='rbf',\n",
       "    max_iter=-1, probability=False, random_state=None, shrinking=True,\n",
       "    tol=0.001, verbose=False)"
      ]
     },
     "execution_count": 148,
     "metadata": {},
     "output_type": "execute_result"
    }
   ],
   "source": [
    "# fit the training dataset on the classifier\n",
    "SVM = svm.SVC()\n",
    "SVM.fit(train_tfidf,Train_Y)"
   ]
  },
  {
   "cell_type": "markdown",
   "metadata": {},
   "source": [
    "### 3.3. Evaluate SVM (DEFAULT PARAM)"
   ]
  },
  {
   "cell_type": "code",
   "execution_count": 149,
   "metadata": {},
   "outputs": [
    {
     "name": "stdout",
     "output_type": "stream",
     "text": [
      "SVM Accuracy Score ->  98.72495446265937\n"
     ]
    }
   ],
   "source": [
    "# predict the labels on validation dataset\n",
    "predictions_SVM = SVM.predict(test_tfidf)\n",
    "# Use accuracy_score function to get the accuracy\n",
    "print(\"SVM Accuracy Score -> \",accuracy_score(predictions_SVM, Test_Y)*100)"
   ]
  },
  {
   "cell_type": "code",
   "execution_count": 151,
   "metadata": {
    "scrolled": true
   },
   "outputs": [
    {
     "name": "stdout",
     "output_type": "stream",
     "text": [
      "              precision    recall  f1-score   support\n",
      "\n",
      "           0       0.99      1.00      0.99       477\n",
      "           1       1.00      0.90      0.95        72\n",
      "\n",
      "    accuracy                           0.99       549\n",
      "   macro avg       0.99      0.95      0.97       549\n",
      "weighted avg       0.99      0.99      0.99       549\n",
      "\n"
     ]
    }
   ],
   "source": [
    "print(classification_report(y_true=Test_Y, y_pred=predictions_SVM))"
   ]
  },
  {
   "cell_type": "markdown",
   "metadata": {},
   "source": [
    "### 3.4. Search for best hyperparameters with Grid Search"
   ]
  },
  {
   "cell_type": "code",
   "execution_count": 152,
   "metadata": {},
   "outputs": [
    {
     "name": "stdout",
     "output_type": "stream",
     "text": [
      "Best Score:  0.9596565656565657\n",
      "Best Params:  {'C': 10, 'break_ties': True, 'gamma': 1, 'kernel': 'linear'}\n"
     ]
    }
   ],
   "source": [
    "param_grid = {'C': [0.1,1, 10, 100], 'break_ties': (True,False),'gamma': [1,0.1,0.01,0.001, 'scale'],'kernel': ['rbf', 'poly', 'sigmoid', 'linear']}\n",
    "\n",
    "from sklearn.model_selection import GridSearchCV\n",
    "clf = GridSearchCV(svm.SVC(), param_grid)\n",
    "clf.fit(val_tfidf, Val_Y)\n",
    "\n",
    "print(\"Best Score: \", clf.best_score_)\n",
    "print(\"Best Params: \", clf.best_params_)"
   ]
  },
  {
   "cell_type": "markdown",
   "metadata": {},
   "source": [
    "### 3.5. Build and Train optimized SVM"
   ]
  },
  {
   "cell_type": "code",
   "execution_count": 153,
   "metadata": {},
   "outputs": [
    {
     "data": {
      "text/plain": [
       "SVC(C=10, break_ties=True, cache_size=200, class_weight=None, coef0=0.0,\n",
       "    decision_function_shape='ovr', degree=3, gamma=1, kernel='linear',\n",
       "    max_iter=-1, probability=False, random_state=None, shrinking=True,\n",
       "    tol=0.001, verbose=False)"
      ]
     },
     "execution_count": 153,
     "metadata": {},
     "output_type": "execute_result"
    }
   ],
   "source": [
    "# fit the training dataset on the classifier\n",
    "SVM = svm.SVC(C=10, break_ties=True, kernel='linear', degree=3, gamma=1)\n",
    "SVM.fit(train_tfidf,Train_Y)"
   ]
  },
  {
   "cell_type": "markdown",
   "metadata": {},
   "source": [
    "### 3.6. Re-evaluate SVM"
   ]
  },
  {
   "cell_type": "code",
   "execution_count": 157,
   "metadata": {},
   "outputs": [
    {
     "name": "stdout",
     "output_type": "stream",
     "text": [
      "SVM's accuracy score :  98.54280510018215\n"
     ]
    }
   ],
   "source": [
    "# predict the labels on validation dataset\n",
    "predictions_SVM = SVM.predict(test_tfidf)\n",
    "# Calculate SVM accuracy\n",
    "print(\"SVM's accuracy score : \",accuracy_score(predictions_SVM, Test_Y)*100)"
   ]
  },
  {
   "cell_type": "code",
   "execution_count": 158,
   "metadata": {
    "scrolled": true
   },
   "outputs": [
    {
     "name": "stdout",
     "output_type": "stream",
     "text": [
      "              precision    recall  f1-score   support\n",
      "\n",
      "           0       0.99      1.00      0.99       477\n",
      "           1       0.97      0.92      0.94        72\n",
      "\n",
      "    accuracy                           0.99       549\n",
      "   macro avg       0.98      0.96      0.97       549\n",
      "weighted avg       0.99      0.99      0.99       549\n",
      "\n"
     ]
    }
   ],
   "source": [
    "print(classification_report(y_true= Test_Y, y_pred=predictions_SVM))"
   ]
  },
  {
   "cell_type": "code",
   "execution_count": null,
   "metadata": {},
   "outputs": [],
   "source": []
  }
 ],
 "metadata": {
  "kernelspec": {
   "display_name": "'Python Interactive'",
   "language": "python",
   "name": "a65c17a7-e1ca-4afb-b7a7-bcf261eb3d3f"
  },
  "language_info": {
   "codemirror_mode": {
    "name": "ipython",
    "version": 3
   },
   "file_extension": ".py",
   "mimetype": "text/x-python",
   "name": "python",
   "nbconvert_exporter": "python",
   "pygments_lexer": "ipython3",
   "version": "3.7.3"
  }
 },
 "nbformat": 4,
 "nbformat_minor": 2
}
